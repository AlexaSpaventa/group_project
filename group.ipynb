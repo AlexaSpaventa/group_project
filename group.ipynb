{
 "cells": [
  {
   "cell_type": "code",
   "execution_count": null,
   "metadata": {},
   "outputs": [],
   "source": [
    "name = input(\"Please enter your name:\")\n",
    "print(\"Welcome \" + name)\n",
    "n1 = input(\"Enter a number: \")\n",
    "n1 = int(n1)\n",
    "n2 = input(\"Enter a number: \")\n",
    "n2 = int(n2)\n",
    "n3 = input(\"Enter a number: \")\n",
    "n3 = int(n3)\n",
    "n4 = input(\"Enter a number: \")\n",
    "n4 = int(n4)\n",
    "n5 = input(\"Enter a number: \")\n",
    "n5 = int(n5)\n",
    "numbers = [n1,n2,n3,n4,n5]\n",
    "numbers.sort()\n",
    "print(\"Your numbers in order:\", numbers)\n",
    "summation = sum(numbers)\n",
    "print(\"The totoal of your numbers is:\" , summation)\n",
    "\n",
    "\n"
   ]
  },
  {
   "cell_type": "code",
   "execution_count": null,
   "metadata": {},
   "outputs": [],
   "source": []
  },
  {
   "cell_type": "code",
   "execution_count": null,
   "metadata": {},
   "outputs": [],
   "source": []
  }
 ],
 "metadata": {
  "kernelspec": {
   "display_name": "Python 3.7",
   "language": "python",
   "name": "python3"
  },
  "language_info": {
   "codemirror_mode": {
    "name": "ipython",
    "version": 3
   },
   "file_extension": ".py",
   "mimetype": "text/x-python",
   "name": "python",
   "nbconvert_exporter": "python",
   "pygments_lexer": "ipython3",
   "version": "3.7.0"
  }
 },
 "nbformat": 4,
 "nbformat_minor": 2
}
