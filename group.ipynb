{
 "cells": [
  {
   "cell_type": "code",
   "execution_count": 2,
   "metadata": {},
   "outputs": [
    {
     "name": "stdin",
     "output_type": "stream",
     "text": [
      "Please enter your name: Alexa \n"
     ]
    },
    {
     "name": "stdout",
     "output_type": "stream",
     "text": [
      "Welcome Alexa \n"
     ]
    },
    {
     "name": "stdin",
     "output_type": "stream",
     "text": [
      "Enter a number:  5.6\n",
      "Enter a number:  7.8\n",
      "Enter a number:  5\n",
      "Enter a number:  1\n",
      "Enter a number:  2\n"
     ]
    },
    {
     "name": "stdout",
     "output_type": "stream",
     "text": [
      "Your numbers in order: [1.0, 2.0, 5.0, 5.6, 7.8]\n",
      "The totoal of your numbers is: 21.4\n",
      "The average of your numbers is:  4.279999999999999\n"
     ]
    }
   ],
   "source": [
    "#Allow the user to enter their name into the system\n",
    "name = input(\"Please enter your name:\")\n",
    "print(\"Welcome \" + name)\n",
    "#Has the user enter five numbers \n",
    "n1 = input(\"Enter a number: \")\n",
    "n1 = float(n1)\n",
    "n2 = input(\"Enter a number: \")\n",
    "n2 = float(n2)\n",
    "n3 = input(\"Enter a number: \")\n",
    "n3 = float(n3)\n",
    "n4 = input(\"Enter a number: \")\n",
    "n4 = float(n4)\n",
    "n5 = input(\"Enter a number: \")\n",
    "n5 = float(n5)\n",
    "#Puts the numbers the user entered into a list \n",
    "numbers = [n1,n2,n3,n4,n5]\n",
    "#Sorts the list from the smallest number to the largest \n",
    "numbers.sort()\n",
    "print(\"Your numbers in order:\", numbers)\n",
    "#Prints the sum of the numbers \n",
    "summation = sum(numbers)\n",
    "print(\"The totoal of your numbers is:\" , summation)\n",
    "#Calculates and prints the average of the numbers \n",
    "average = summation/5\n",
    "print(\"The average of your numbers is: \", average)\n",
    "\n",
    "\n"
   ]
  },
  {
   "cell_type": "code",
   "execution_count": null,
   "metadata": {},
   "outputs": [],
   "source": []
  },
  {
   "cell_type": "code",
   "execution_count": null,
   "metadata": {},
   "outputs": [],
   "source": []
  }
 ],
 "metadata": {
  "kernelspec": {
   "display_name": "Python 3.7",
   "language": "python",
   "name": "python3"
  },
  "language_info": {
   "codemirror_mode": {
    "name": "ipython",
    "version": 3
   },
   "file_extension": ".py",
   "mimetype": "text/x-python",
   "name": "python",
   "nbconvert_exporter": "python",
   "pygments_lexer": "ipython3",
   "version": "3.7.0"
  }
 },
 "nbformat": 4,
 "nbformat_minor": 2
}
